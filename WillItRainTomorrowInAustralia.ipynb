#Will it rain tomorrow in Australia
#Import the Required Libraries
# All Libraries required for this lab are listed below. The libraries pre-installed on Skills Network Labs are commented.
# !mamba install -qy pandas==1.3.4 numpy==1.21.4 seaborn==0.9.0 matplotlib==3.5.0 scikit-learn==0.20.1
# Note: If your environment doesn't support "!mamba install", use "!pip install"
# Surpress warnings:
def warn(*args, **kwargs):
    pass
import warnings
warnings.warn = warn
#you are running the lab in your  browser, so we will install the libraries using ``piplite``
import piplite
await piplite.install(['pandas'])
await piplite.install(['numpy'])
import pandas as pd
from sklearn.linear_model import LogisticRegression
from sklearn.linear_model import LinearRegression
from sklearn import preprocessing
import numpy as np
from sklearn.neighbors import KNeighborsClassifier
from sklearn.model_selection import train_test_split
from sklearn.neighbors import KNeighborsClassifier
from sklearn.tree import DecisionTreeClassifier
from sklearn import svm
from sklearn.metrics import jaccard_score
from sklearn.metrics import f1_score
from sklearn.metrics import log_loss
from sklearn.metrics import confusion_matrix, accuracy_score
import sklearn.metrics as metrics

#Importing the Dataset
from pyodide.http import pyfetch

async def download(url, filename):
    response = await pyfetch(url)
    if response.status == 200:
        with open(filename, "wb") as f:
            f.write(await response.bytes())
			
path='https://cf-courses-data.s3.us.cloud-object-storage.appdomain.cloud/IBMDeveloperSkillsNetwork-ML0101EN-SkillUp/labs/ML-FinalAssignment/Weather_Data.csv'

await download(path, "Weather_Data.csv")
filename ="Weather_Data.csv"

df = pd.read_csv("Weather_Data.csv")
df.head()

#Data Preprocessing
#One Hot Encoding
#First, we need to perform one hot encoding to convert categorical variables to binary variables.
df_sydney_processed = pd.get_dummies(data=df, columns=['RainToday', 'WindGustDir', 'WindDir9am', 'WindDir3pm'])

#Next, we replace the values of the 'RainTomorrow' column changing them from a categorical column to a binary column. 
#We do not use the get_dummies method because we would end up with two columns for 'RainTomorrow' and we do not want, since 'RainTomorrow' is our target.
df_sydney_processed.replace(['No', 'Yes'], [0,1], inplace=True)

#Training Data and Test Data - Now, we set our 'features' or x values and our Y or target variable.
df_sydney_processed.drop('Date',axis=1,inplace=True)

df_sydney_processed = df_sydney_processed.astype(float)

features = df_sydney_processed.drop(columns='RainTomorrow', axis=1)
Y = df_sydney_processed['RainTomorrow']

#Linear Regression
#Q1) Use the train_test_split function to split the features and Y dataframes with a test_size of 0.2 and the random_state set to 10.
x_train, x_test, y_train, y_test = train_test_split(features, Y, test_size=0.2, random_state=10)

#Q2) Create and train a Linear Regression model called LinearReg using the training data (x_train, y_train).
LinearReg = LinearRegression()
LinearReg.fit(x_train,y_train)

#Q3) Now use the predict method on the testing data (x_test) and save it to the array predictions.
predictions = LinearReg.predict(x_test)

#Q4) Using the predictions and the y_test dataframe calculate the value for each metric using the appropriate function.
from sklearn.metrics import r2_score
LinearRegression_MAE = np.mean(np.absolute(predictions - y_test))
LinearRegression_MSE = np.mean(predictions - y_test)
LinearRegression_R2 = r2_score(y_test, predictions)

print('MAE = ', LinearRegression_MAE)
print('MSE = ', LinearRegression_MSE)
print('R2 = ', LinearRegression_R2)

#Q5) Show the MAE, MSE, and R2 in a tabular format using data frame for the linear model.
Report = {'MSE': [LinearRegression_MSE], 'MAE': [LinearRegression_MAE], 'R2': [LinearRegression_R2]}
Report=pd.DataFrame(Report)
Report.index = ['Linear Regression']
Report

#KNN
#Q6) Create and train a KNN model called KNN using the training data (x_train, y_train) with the n_neighbors parameter set to 4.
KNN = KNeighborsClassifier(n_neighbors=4)
KNN.fit(x_train, y_train)

#Q7) Now use the predict method on the testing data (x_test) and save it to the array predictions.
predictions = KNN.predict(x_test)

#Q8) Using the predictions and the y_test dataframe calculate the value for each metric using the appropriate function.
KNN_Accuracy_Score = accuracy_score(y_test, predictions)
KNN_JaccardIndex = jaccard_score(y_test, predictions, pos_label=0)
KNN_F1_Score = f1_score(y_test, predictions, average='weighted')
print('KNN Accuracy Score: ', KNN_Accuracy_Score)
print('KNN Jaccard Index: ', KNN_JaccardIndex)
print('KNN F1 Score: ', KNN_F1_Score)

#Decision Tree
#Q9) Create and train a Decision Tree model called Tree using the training data (x_train, y_train).
Tree = DecisionTreeClassifier(criterion="entropy", max_depth = 8)
Tree.fit(x_train,y_train)

#Q10) Now use the predict method on the testing data (x_test) and save it to the array predictions.
predictions = Tree.predict(x_test)

#Q11) Using the predictions and the y_test dataframe calculate the value for each metric using the appropriate function.
Tree_Accuracy_Score = accuracy_score(y_test, predictions)
Tree_JaccardIndex = jaccard_score(y_test, predictions, pos_label=0)
Tree_F1_Score = f1_score(y_test, predictions)
print('Tree Accuracy Score: ', Tree_Accuracy_Score)
print('Tree Jaccard Index: ', Tree_JaccardIndex)
print('Tree F1 Score: ', Tree_F1_Score)

#Logistic Regression
#Q12) Use the train_test_split function to split the features and Y dataframes with a test_size of 0.2 and the random_state set to 1.
x_train, x_test, y_train, y_test = train_test_split(features, Y, test_size=0.2, random_state=1)

#Q13) Create and train a LogisticRegression model called LR using the training data (x_train, y_train) with the solver parameter set to liblinear.
LR = LogisticRegression(solver='liblinear')
LR.fit(x_train,y_train)

#Q14) Now, use the predict and predict_proba methods on the testing data (x_test) and save it as 2 arrays predictions and predict_proba.
predictions = LR.predict(x_test)

predict_proba = LR.predict_proba(x_test)

#Q15) Using the predictions, predict_proba and the y_test dataframe calculate the value for each metric using the appropriate function.
LR_Accuracy_Score = accuracy_score(y_test, predictions)
LR_JaccardIndex = jaccard_score(y_test, predictions, pos_label=0)
LR_F1_Score = f1_score(y_test, predictions)
LR_Log_Loss = log_loss(y_test, LR.predict_proba(x_test))
print('LR Accuracy Score: ', LR_Accuracy_Score)
print('LR Jaccard Index: ', LR_JaccardIndex)
print('LR F1 Score: ', LR_F1_Score)
print('LR Log Loss: ', LR_Log_Loss)

#SVM
#Q16) Create and train a SVM model called SVM using the training data (x_train, y_train).
SVM = svm.SVC(kernel='linear')
SVM.fit(x_train, y_train)

#Q17) Now use the predict method on the testing data (x_test) and save it to the array predictions.
predictions = SVM.predict(x_test)

#Q18) Using the predictions and the y_test dataframe calculate the value for each metric using the appropriate function.
SVM_Accuracy_Score = accuracy_score(y_test, predictions)
SVM_JaccardIndex = jaccard_score(y_test, predictions, pos_label=0)
SVM_F1_Score = f1_score(y_test, predictions)
print('SVM Accuracy Score: ', SVM_Accuracy_Score)
print('SVM Jaccard Index: ', SVM_JaccardIndex)
print('SVM F1 Score: ', SVM_F1_Score)

#Report
#Q19) Show the Accuracy,Jaccard Index,F1-Score and LogLoss in a tabular format using data frame for all of the above models.
#*LogLoss is only for Logistic Regression Model
Report = {'Classification Algorithm': ['KNN, K=4', 'Decision Tree',  'LogisticRegression','SVM'],
          'Accuracy Score': [KNN_Accuracy_Score, Tree_Accuracy_Score, LR_Accuracy_Score, SVM_Accuracy_Score],
          'Jaccard Score': [KNN_JaccardIndex, Tree_JaccardIndex, LR_JaccardIndex, SVM_JaccardIndex,],
          'F1-score': [KNN_F1_Score, Tree_F1_Score, LR_F1_Score, SVM_F1_Score], 
          'LogLoss': ['N/A', 'N/A', LR_Log_Loss, 'N/A']}
Report = pd.DataFrame(Report)
Report


